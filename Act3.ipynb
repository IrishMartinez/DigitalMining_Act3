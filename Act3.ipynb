{
 "cells": [
  {
   "cell_type": "code",
   "execution_count": 1,
   "id": "ffba44cc-83e8-402f-afbb-06fe88a1e73b",
   "metadata": {},
   "outputs": [
    {
     "name": "stdout",
     "output_type": "stream",
     "text": [
      "Requirement already satisfied: scipy in c:\\users\\user\\appdata\\local\\programs\\python\\python311\\lib\\site-packages (1.13.0)\n",
      "Requirement already satisfied: numpy<2.3,>=1.22.4 in c:\\users\\user\\appdata\\local\\programs\\python\\python311\\lib\\site-packages (from scipy) (1.26.0)\n",
      "Note: you may need to restart the kernel to use updated packages.\n"
     ]
    },
    {
     "name": "stderr",
     "output_type": "stream",
     "text": [
      "\n",
      "[notice] A new release of pip available: 22.3.1 -> 25.0.1\n",
      "[notice] To update, run: python.exe -m pip install --upgrade pip\n"
     ]
    }
   ],
   "source": [
    "pip install scipy"
   ]
  },
  {
   "cell_type": "markdown",
   "id": "2a232d8a-d760-4b50-aadc-f6c5861579b4",
   "metadata": {},
   "source": [
    "<h1> Data Analysis Project</h1>\n",
    "<h2> United Kingdom </h2>\n",
    "<h3> Inclusive years: 2019-2022</h3>\n",
    "<h4> Analyst: Irish Valerie Martinez</h4>"
   ]
  },
  {
   "cell_type": "markdown",
   "id": "75c7c4c5-1b1f-492b-a089-4e2eaa01af1d",
   "metadata": {},
   "source": [
    "<h2> Data Preparation</h2>"
   ]
  },
  {
   "cell_type": "code",
   "execution_count": 2,
   "id": "8050609f-299d-4c63-9f48-8c94ff86a4b7",
   "metadata": {},
   "outputs": [],
   "source": [
    "import numpy as np\n",
    "import pandas as pd\n",
    "import matplotlib.pyplot as plt\n",
    "import seaborn as sns\n",
    "from scipy.stats import f_oneway\n",
    "import warnings\n",
    "warnings.filterwarnings ('ignore')"
   ]
  },
  {
   "cell_type": "markdown",
   "id": "4c692cad-7a01-41a6-993f-ae349c8e57c2",
   "metadata": {},
   "source": [
    "<h1>Importing Libraries</h1>"
   ]
  },
  {
   "cell_type": "code",
   "execution_count": 3,
   "id": "e1de222e-1276-4f18-be3b-66321ced2ccb",
   "metadata": {},
   "outputs": [],
   "source": [
    "accident = pd.read_csv('accident_data.csv')"
   ]
  },
  {
   "cell_type": "code",
   "execution_count": 4,
   "id": "c631c950-e448-476f-ab14-831db6b20b3d",
   "metadata": {
    "scrolled": true
   },
   "outputs": [
    {
     "data": {
      "text/html": [
       "<div>\n",
       "<style scoped>\n",
       "    .dataframe tbody tr th:only-of-type {\n",
       "        vertical-align: middle;\n",
       "    }\n",
       "\n",
       "    .dataframe tbody tr th {\n",
       "        vertical-align: top;\n",
       "    }\n",
       "\n",
       "    .dataframe thead th {\n",
       "        text-align: right;\n",
       "    }\n",
       "</style>\n",
       "<table border=\"1\" class=\"dataframe\">\n",
       "  <thead>\n",
       "    <tr style=\"text-align: right;\">\n",
       "      <th></th>\n",
       "      <th>Index</th>\n",
       "      <th>Accident_Severity</th>\n",
       "      <th>Accident Date</th>\n",
       "      <th>Latitude</th>\n",
       "      <th>Light_Conditions</th>\n",
       "      <th>District Area</th>\n",
       "      <th>Longitude</th>\n",
       "      <th>Number_of_Casualties</th>\n",
       "      <th>Number_of_Vehicles</th>\n",
       "      <th>Road_Surface_Conditions</th>\n",
       "      <th>Road_Type</th>\n",
       "      <th>Urban_or_Rural_Area</th>\n",
       "      <th>Weather_Conditions</th>\n",
       "      <th>Vehicle_Type</th>\n",
       "    </tr>\n",
       "  </thead>\n",
       "  <tbody>\n",
       "    <tr>\n",
       "      <th>0</th>\n",
       "      <td>200701BS64157</td>\n",
       "      <td>Serious</td>\n",
       "      <td>5/6/2019</td>\n",
       "      <td>51.506187</td>\n",
       "      <td>Darkness - lights lit</td>\n",
       "      <td>Kensington and Chelsea</td>\n",
       "      <td>-0.209082</td>\n",
       "      <td>1</td>\n",
       "      <td>2</td>\n",
       "      <td>Dry</td>\n",
       "      <td>Single carriageway</td>\n",
       "      <td>Urban</td>\n",
       "      <td>Fine no high winds</td>\n",
       "      <td>Car</td>\n",
       "    </tr>\n",
       "    <tr>\n",
       "      <th>1</th>\n",
       "      <td>200701BS65737</td>\n",
       "      <td>Serious</td>\n",
       "      <td>2/7/2019</td>\n",
       "      <td>51.495029</td>\n",
       "      <td>Daylight</td>\n",
       "      <td>Kensington and Chelsea</td>\n",
       "      <td>-0.173647</td>\n",
       "      <td>1</td>\n",
       "      <td>2</td>\n",
       "      <td>Wet or damp</td>\n",
       "      <td>Single carriageway</td>\n",
       "      <td>Urban</td>\n",
       "      <td>Raining no high winds</td>\n",
       "      <td>Car</td>\n",
       "    </tr>\n",
       "    <tr>\n",
       "      <th>2</th>\n",
       "      <td>200701BS66127</td>\n",
       "      <td>Serious</td>\n",
       "      <td>26-08-2019</td>\n",
       "      <td>51.517715</td>\n",
       "      <td>Darkness - lighting unknown</td>\n",
       "      <td>Kensington and Chelsea</td>\n",
       "      <td>-0.210215</td>\n",
       "      <td>1</td>\n",
       "      <td>3</td>\n",
       "      <td>Dry</td>\n",
       "      <td>NaN</td>\n",
       "      <td>Urban</td>\n",
       "      <td>NaN</td>\n",
       "      <td>Taxi/Private hire car</td>\n",
       "    </tr>\n",
       "    <tr>\n",
       "      <th>3</th>\n",
       "      <td>200701BS66128</td>\n",
       "      <td>Serious</td>\n",
       "      <td>16-08-2019</td>\n",
       "      <td>51.495478</td>\n",
       "      <td>Daylight</td>\n",
       "      <td>Kensington and Chelsea</td>\n",
       "      <td>-0.202731</td>\n",
       "      <td>1</td>\n",
       "      <td>4</td>\n",
       "      <td>Dry</td>\n",
       "      <td>Single carriageway</td>\n",
       "      <td>Urban</td>\n",
       "      <td>Fine no high winds</td>\n",
       "      <td>Bus or coach (17 or more pass seats)</td>\n",
       "    </tr>\n",
       "    <tr>\n",
       "      <th>4</th>\n",
       "      <td>200701BS66837</td>\n",
       "      <td>Slight</td>\n",
       "      <td>3/9/2019</td>\n",
       "      <td>51.488576</td>\n",
       "      <td>Darkness - lights lit</td>\n",
       "      <td>Kensington and Chelsea</td>\n",
       "      <td>-0.192487</td>\n",
       "      <td>1</td>\n",
       "      <td>2</td>\n",
       "      <td>Dry</td>\n",
       "      <td>NaN</td>\n",
       "      <td>Urban</td>\n",
       "      <td>NaN</td>\n",
       "      <td>Other vehicle</td>\n",
       "    </tr>\n",
       "    <tr>\n",
       "      <th>...</th>\n",
       "      <td>...</td>\n",
       "      <td>...</td>\n",
       "      <td>...</td>\n",
       "      <td>...</td>\n",
       "      <td>...</td>\n",
       "      <td>...</td>\n",
       "      <td>...</td>\n",
       "      <td>...</td>\n",
       "      <td>...</td>\n",
       "      <td>...</td>\n",
       "      <td>...</td>\n",
       "      <td>...</td>\n",
       "      <td>...</td>\n",
       "      <td>...</td>\n",
       "    </tr>\n",
       "    <tr>\n",
       "      <th>660674</th>\n",
       "      <td>201091NM01760</td>\n",
       "      <td>Slight</td>\n",
       "      <td>18-02-2022</td>\n",
       "      <td>57.374005</td>\n",
       "      <td>Daylight</td>\n",
       "      <td>Highland</td>\n",
       "      <td>-3.467828</td>\n",
       "      <td>2</td>\n",
       "      <td>1</td>\n",
       "      <td>Dry</td>\n",
       "      <td>Single carriageway</td>\n",
       "      <td>Rural</td>\n",
       "      <td>Fine no high winds</td>\n",
       "      <td>Car</td>\n",
       "    </tr>\n",
       "    <tr>\n",
       "      <th>660675</th>\n",
       "      <td>201091NM01881</td>\n",
       "      <td>Slight</td>\n",
       "      <td>21-02-2022</td>\n",
       "      <td>57.232273</td>\n",
       "      <td>Darkness - no lighting</td>\n",
       "      <td>Highland</td>\n",
       "      <td>-3.809281</td>\n",
       "      <td>1</td>\n",
       "      <td>1</td>\n",
       "      <td>Frost or ice</td>\n",
       "      <td>Single carriageway</td>\n",
       "      <td>Rural</td>\n",
       "      <td>Fine no high winds</td>\n",
       "      <td>Car</td>\n",
       "    </tr>\n",
       "    <tr>\n",
       "      <th>660676</th>\n",
       "      <td>201091NM01935</td>\n",
       "      <td>Slight</td>\n",
       "      <td>23-02-2022</td>\n",
       "      <td>57.585044</td>\n",
       "      <td>Daylight</td>\n",
       "      <td>Highland</td>\n",
       "      <td>-3.862727</td>\n",
       "      <td>1</td>\n",
       "      <td>3</td>\n",
       "      <td>Frost or ice</td>\n",
       "      <td>Single carriageway</td>\n",
       "      <td>Rural</td>\n",
       "      <td>Fine no high winds</td>\n",
       "      <td>Car</td>\n",
       "    </tr>\n",
       "    <tr>\n",
       "      <th>660677</th>\n",
       "      <td>201091NM01964</td>\n",
       "      <td>Serious</td>\n",
       "      <td>23-02-2022</td>\n",
       "      <td>57.214898</td>\n",
       "      <td>Darkness - no lighting</td>\n",
       "      <td>Highland</td>\n",
       "      <td>-3.823997</td>\n",
       "      <td>1</td>\n",
       "      <td>2</td>\n",
       "      <td>Wet or damp</td>\n",
       "      <td>Single carriageway</td>\n",
       "      <td>Rural</td>\n",
       "      <td>Fine no high winds</td>\n",
       "      <td>Motorcycle over 500cc</td>\n",
       "    </tr>\n",
       "    <tr>\n",
       "      <th>660678</th>\n",
       "      <td>201091NM02142</td>\n",
       "      <td>Serious</td>\n",
       "      <td>28-02-2022</td>\n",
       "      <td>57.575210</td>\n",
       "      <td>Daylight</td>\n",
       "      <td>Highland</td>\n",
       "      <td>-3.895673</td>\n",
       "      <td>1</td>\n",
       "      <td>1</td>\n",
       "      <td>Wet or damp</td>\n",
       "      <td>Dual carriageway</td>\n",
       "      <td>Rural</td>\n",
       "      <td>Snowing no high winds</td>\n",
       "      <td>Car</td>\n",
       "    </tr>\n",
       "  </tbody>\n",
       "</table>\n",
       "<p>660679 rows × 14 columns</p>\n",
       "</div>"
      ],
      "text/plain": [
       "                Index Accident_Severity Accident Date   Latitude  \\\n",
       "0       200701BS64157           Serious      5/6/2019  51.506187   \n",
       "1       200701BS65737           Serious      2/7/2019  51.495029   \n",
       "2       200701BS66127           Serious    26-08-2019  51.517715   \n",
       "3       200701BS66128           Serious    16-08-2019  51.495478   \n",
       "4       200701BS66837            Slight      3/9/2019  51.488576   \n",
       "...               ...               ...           ...        ...   \n",
       "660674  201091NM01760            Slight    18-02-2022  57.374005   \n",
       "660675  201091NM01881            Slight    21-02-2022  57.232273   \n",
       "660676  201091NM01935            Slight    23-02-2022  57.585044   \n",
       "660677  201091NM01964           Serious    23-02-2022  57.214898   \n",
       "660678  201091NM02142           Serious    28-02-2022  57.575210   \n",
       "\n",
       "                   Light_Conditions           District Area  Longitude  \\\n",
       "0             Darkness - lights lit  Kensington and Chelsea  -0.209082   \n",
       "1                          Daylight  Kensington and Chelsea  -0.173647   \n",
       "2       Darkness - lighting unknown  Kensington and Chelsea  -0.210215   \n",
       "3                          Daylight  Kensington and Chelsea  -0.202731   \n",
       "4             Darkness - lights lit  Kensington and Chelsea  -0.192487   \n",
       "...                             ...                     ...        ...   \n",
       "660674                     Daylight                Highland  -3.467828   \n",
       "660675       Darkness - no lighting                Highland  -3.809281   \n",
       "660676                     Daylight                Highland  -3.862727   \n",
       "660677       Darkness - no lighting                Highland  -3.823997   \n",
       "660678                     Daylight                Highland  -3.895673   \n",
       "\n",
       "        Number_of_Casualties  Number_of_Vehicles Road_Surface_Conditions  \\\n",
       "0                          1                   2                     Dry   \n",
       "1                          1                   2             Wet or damp   \n",
       "2                          1                   3                     Dry   \n",
       "3                          1                   4                     Dry   \n",
       "4                          1                   2                     Dry   \n",
       "...                      ...                 ...                     ...   \n",
       "660674                     2                   1                     Dry   \n",
       "660675                     1                   1            Frost or ice   \n",
       "660676                     1                   3            Frost or ice   \n",
       "660677                     1                   2             Wet or damp   \n",
       "660678                     1                   1             Wet or damp   \n",
       "\n",
       "                 Road_Type Urban_or_Rural_Area     Weather_Conditions  \\\n",
       "0       Single carriageway               Urban     Fine no high winds   \n",
       "1       Single carriageway               Urban  Raining no high winds   \n",
       "2                      NaN               Urban                    NaN   \n",
       "3       Single carriageway               Urban     Fine no high winds   \n",
       "4                      NaN               Urban                    NaN   \n",
       "...                    ...                 ...                    ...   \n",
       "660674  Single carriageway               Rural     Fine no high winds   \n",
       "660675  Single carriageway               Rural     Fine no high winds   \n",
       "660676  Single carriageway               Rural     Fine no high winds   \n",
       "660677  Single carriageway               Rural     Fine no high winds   \n",
       "660678    Dual carriageway               Rural  Snowing no high winds   \n",
       "\n",
       "                                Vehicle_Type  \n",
       "0                                        Car  \n",
       "1                                        Car  \n",
       "2                      Taxi/Private hire car  \n",
       "3       Bus or coach (17 or more pass seats)  \n",
       "4                              Other vehicle  \n",
       "...                                      ...  \n",
       "660674                                   Car  \n",
       "660675                                   Car  \n",
       "660676                                   Car  \n",
       "660677                 Motorcycle over 500cc  \n",
       "660678                                   Car  \n",
       "\n",
       "[660679 rows x 14 columns]"
      ]
     },
     "execution_count": 4,
     "metadata": {},
     "output_type": "execute_result"
    }
   ],
   "source": [
    "accident"
   ]
  },
  {
   "cell_type": "code",
   "execution_count": 5,
   "id": "1fa796f3-c167-484c-8ad0-ca6b29035e0c",
   "metadata": {},
   "outputs": [],
   "source": [
    "accident['Accident_Severity'] = accident['Accident_Severity'] = accident['Accident_Severity'].astype('category')"
   ]
  },
  {
   "cell_type": "code",
   "execution_count": 6,
   "id": "fe34c9b7-6e71-4b53-810d-5c31ed6cc599",
   "metadata": {},
   "outputs": [
    {
     "data": {
      "text/plain": [
       "Accident_Severity\n",
       "Slight     563801\n",
       "Serious     88217\n",
       "Fatal        8661\n",
       "Name: count, dtype: int64"
      ]
     },
     "execution_count": 6,
     "metadata": {},
     "output_type": "execute_result"
    }
   ],
   "source": [
    "accident['Accident_Severity'].value_counts()"
   ]
  },
  {
   "cell_type": "code",
   "execution_count": 7,
   "id": "2d3e4a5e-cb08-4ac6-9b0c-6a8171cc57bc",
   "metadata": {},
   "outputs": [
    {
     "data": {
      "text/plain": [
       "Index                        object\n",
       "Accident_Severity          category\n",
       "Accident Date                object\n",
       "Latitude                    float64\n",
       "Light_Conditions             object\n",
       "District Area                object\n",
       "Longitude                   float64\n",
       "Number_of_Casualties          int64\n",
       "Number_of_Vehicles            int64\n",
       "Road_Surface_Conditions      object\n",
       "Road_Type                    object\n",
       "Urban_or_Rural_Area          object\n",
       "Weather_Conditions           object\n",
       "Vehicle_Type                 object\n",
       "dtype: object"
      ]
     },
     "execution_count": 7,
     "metadata": {},
     "output_type": "execute_result"
    }
   ],
   "source": [
    "accident.dtypes"
   ]
  },
  {
   "cell_type": "markdown",
   "id": "f1085c80-fbe2-4879-8668-f806af7068f1",
   "metadata": {},
   "source": [
    "<h3>Data Cleansing</h3>"
   ]
  },
  {
   "cell_type": "code",
   "execution_count": 8,
   "id": "58192c01-e9c0-4a0d-a124-34e200c85345",
   "metadata": {},
   "outputs": [
    {
     "data": {
      "text/plain": [
       "Index                          0\n",
       "Accident_Severity              0\n",
       "Accident Date                  0\n",
       "Latitude                      25\n",
       "Light_Conditions               0\n",
       "District Area                  0\n",
       "Longitude                     26\n",
       "Number_of_Casualties           0\n",
       "Number_of_Vehicles             0\n",
       "Road_Surface_Conditions      726\n",
       "Road_Type                   4520\n",
       "Urban_or_Rural_Area           15\n",
       "Weather_Conditions         14128\n",
       "Vehicle_Type                   0\n",
       "dtype: int64"
      ]
     },
     "execution_count": 8,
     "metadata": {},
     "output_type": "execute_result"
    }
   ],
   "source": [
    "accident.isnull().sum()"
   ]
  },
  {
   "cell_type": "code",
   "execution_count": 9,
   "id": "04c67482-7a2c-409a-bf15-b1509bd483ac",
   "metadata": {},
   "outputs": [],
   "source": [
    "accident['Latitude'] = accident['Latitude'].fillna(accident['Latitude'].mode()[0])\n",
    "accident['Longitude'] = accident['Longitude'].fillna(accident['Longitude'].mode()[0])\n",
    "accident['Road_Surface_Conditions'] = accident['Road_Surface_Conditions'].fillna('unknown surface conditions')\n",
    "accident['Road_Type'] = accident['Road_Type'].fillna('unaccounted')\n",
    "accident['Weather_Conditions'] = accident['Weather_Conditions'].fillna('unaccounted weather conditions')\n",
    "accident['Urban_or_Rural_Area'] = accident['Urban_or_Rural_Area'].fillna(accident['Urban_or_Rural_Area'].mode()[0])"
   ]
  },
  {
   "cell_type": "code",
   "execution_count": 10,
   "id": "ddbf1bb0-a9e6-489a-8c1d-ec56ded149c8",
   "metadata": {},
   "outputs": [
    {
     "data": {
      "text/plain": [
       "Index                      0\n",
       "Accident_Severity          0\n",
       "Accident Date              0\n",
       "Latitude                   0\n",
       "Light_Conditions           0\n",
       "District Area              0\n",
       "Longitude                  0\n",
       "Number_of_Casualties       0\n",
       "Number_of_Vehicles         0\n",
       "Road_Surface_Conditions    0\n",
       "Road_Type                  0\n",
       "Urban_or_Rural_Area        0\n",
       "Weather_Conditions         0\n",
       "Vehicle_Type               0\n",
       "dtype: int64"
      ]
     },
     "execution_count": 10,
     "metadata": {},
     "output_type": "execute_result"
    }
   ],
   "source": [
    "accident.isnull().sum()"
   ]
  },
  {
   "cell_type": "code",
   "execution_count": 11,
   "id": "08ed4b35-006b-4f75-b173-8abea753c215",
   "metadata": {},
   "outputs": [],
   "source": [
    "accident['Accident Date'] = accident['Accident Date'].str.strip()\n",
    "accident['Accident Date'] = accident['Accident Date'].str.replace('/', '-')"
   ]
  },
  {
   "cell_type": "markdown",
   "id": "40ab63b6-52ca-4ab6-be70-6812c0cd0ff3",
   "metadata": {},
   "source": [
    "<h1> Converting object data type to date time date types</h1>"
   ]
  },
  {
   "cell_type": "code",
   "execution_count": 12,
   "id": "1ab34385-129c-4fcd-9f4c-476151f804e2",
   "metadata": {},
   "outputs": [],
   "source": [
    "accident['Accident Date'] = pd.to_datetime(accident['Accident Date'], dayfirst = True, errors = 'coerce')"
   ]
  },
  {
   "cell_type": "code",
   "execution_count": 13,
   "id": "f1901f37-3904-44c5-b9e1-c9ddc099d20b",
   "metadata": {},
   "outputs": [
    {
     "data": {
      "text/plain": [
       "Index                      0\n",
       "Accident_Severity          0\n",
       "Accident Date              0\n",
       "Latitude                   0\n",
       "Light_Conditions           0\n",
       "District Area              0\n",
       "Longitude                  0\n",
       "Number_of_Casualties       0\n",
       "Number_of_Vehicles         0\n",
       "Road_Surface_Conditions    0\n",
       "Road_Type                  0\n",
       "Urban_or_Rural_Area        0\n",
       "Weather_Conditions         0\n",
       "Vehicle_Type               0\n",
       "dtype: int64"
      ]
     },
     "execution_count": 13,
     "metadata": {},
     "output_type": "execute_result"
    }
   ],
   "source": [
    "accident.isnull().sum()"
   ]
  },
  {
   "cell_type": "code",
   "execution_count": 14,
   "id": "1c51ea37-bd44-4459-a097-c965984256ee",
   "metadata": {},
   "outputs": [],
   "source": [
    "accident['Accident Date'] = pd.to_datetime(accident['Accident Date'], dayfirst = True, errors = 'coerce')"
   ]
  },
  {
   "cell_type": "markdown",
   "id": "1bf91452-568a-4784-842f-d2aa677834f0",
   "metadata": {},
   "source": [
    "<h1> Adjusting Data Types</h1>"
   ]
  },
  {
   "cell_type": "code",
   "execution_count": 15,
   "id": "edf3f46b-0ac3-4289-a5c9-0ff51c6a71f9",
   "metadata": {},
   "outputs": [
    {
     "data": {
      "text/plain": [
       "Index                              object\n",
       "Accident_Severity                category\n",
       "Accident Date              datetime64[ns]\n",
       "Latitude                          float64\n",
       "Light_Conditions                   object\n",
       "District Area                      object\n",
       "Longitude                         float64\n",
       "Number_of_Casualties                int64\n",
       "Number_of_Vehicles                  int64\n",
       "Road_Surface_Conditions            object\n",
       "Road_Type                          object\n",
       "Urban_or_Rural_Area                object\n",
       "Weather_Conditions                 object\n",
       "Vehicle_Type                       object\n",
       "dtype: object"
      ]
     },
     "execution_count": 15,
     "metadata": {},
     "output_type": "execute_result"
    }
   ],
   "source": [
    "accident.dtypes"
   ]
  },
  {
   "cell_type": "markdown",
   "id": "b53533eb-5002-459b-b8cf-69d02d9189a8",
   "metadata": {},
   "source": [
    "<h1> Extracting Date info unsing pandas date time</h1>"
   ]
  },
  {
   "cell_type": "code",
   "execution_count": 16,
   "id": "c29f665e-9781-4bc2-a16c-5f1ded7abc58",
   "metadata": {},
   "outputs": [],
   "source": [
    "accident['Year'] = accident['Accident Date'].dt.year\n",
    "accident['Month'] = accident['Accident Date'].dt.month\n",
    "accident['Day'] = accident['Accident Date'].dt.day\n",
    "accident['DayOfWeek'] = accident['Accident Date'].dt.dayofweek"
   ]
  },
  {
   "cell_type": "code",
   "execution_count": 17,
   "id": "99101085-7bbb-41f0-94a8-47ec42440135",
   "metadata": {},
   "outputs": [
    {
     "data": {
      "text/plain": [
       "Index                      0\n",
       "Accident_Severity          0\n",
       "Accident Date              0\n",
       "Latitude                   0\n",
       "Light_Conditions           0\n",
       "District Area              0\n",
       "Longitude                  0\n",
       "Number_of_Casualties       0\n",
       "Number_of_Vehicles         0\n",
       "Road_Surface_Conditions    0\n",
       "Road_Type                  0\n",
       "Urban_or_Rural_Area        0\n",
       "Weather_Conditions         0\n",
       "Vehicle_Type               0\n",
       "Year                       0\n",
       "Month                      0\n",
       "Day                        0\n",
       "DayOfWeek                  0\n",
       "dtype: int64"
      ]
     },
     "execution_count": 17,
     "metadata": {},
     "output_type": "execute_result"
    }
   ],
   "source": [
    "accident.isnull().sum()"
   ]
  },
  {
   "cell_type": "markdown",
   "id": "0d55748d-9e96-4b2c-83f2-fd47e3c37fad",
   "metadata": {},
   "source": [
    "<h2> Data ANalytics</h2>\n",
    "<h4> Analyzing each Field from Data Set</h4>\n",
    "<h3> Univariate</h3>"
   ]
  },
  {
   "cell_type": "code",
   "execution_count": 18,
   "id": "8cef13ad-cf32-4994-9dd9-61a4313341b9",
   "metadata": {},
   "outputs": [],
   "source": [
    "df_2019 = accident[accident['Year'] == 2019]"
   ]
  },
  {
   "cell_type": "markdown",
   "id": "e14cdbf9-a703-4f6c-a3fa-7ebfdbcd87e8",
   "metadata": {},
   "source": [
    "<h2> Univariate Analysis from 2019</h2>\n",
    "<h3> How many incidents happened under light conditions</h3>"
   ]
  },
  {
   "cell_type": "markdown",
   "id": "c7f9dd2c-5698-4021-b7e0-21ad0fe52bb5",
   "metadata": {},
   "source": [
    "<h1> Insight 1: Daylight Constitute to 132% of the total accident from year 2019</h1>"
   ]
  },
  {
   "cell_type": "code",
   "execution_count": 19,
   "id": "6d2d6780-7a3d-45aa-b820-ab81cacb7157",
   "metadata": {},
   "outputs": [
    {
     "data": {
      "text/plain": [
       "182115"
      ]
     },
     "execution_count": 19,
     "metadata": {},
     "output_type": "execute_result"
    }
   ],
   "source": [
    "df_2019['Light_Conditions'].value_counts().sum()"
   ]
  },
  {
   "cell_type": "markdown",
   "id": "21398abc-5598-4d3e-b95f-289b69fa7e5b",
   "metadata": {},
   "source": [
    "<h1> Insight 2: Latitude and LOnigtude has no correlation when it come to road accidents <h1>"
   ]
  },
  {
   "cell_type": "code",
   "execution_count": 20,
   "id": "16748f75-36cb-4f35-bfae-a7070401cdfe",
   "metadata": {},
   "outputs": [
    {
     "data": {
      "text/plain": [
       "-0.3981137948101014"
      ]
     },
     "execution_count": 20,
     "metadata": {},
     "output_type": "execute_result"
    }
   ],
   "source": [
    "latg = accident['Latitude'].corr(accident['Longitude'])\n",
    "latg"
   ]
  },
  {
   "cell_type": "markdown",
   "id": "44a5c07c-82e2-4c78-a149-48e09bc84639",
   "metadata": {},
   "source": [
    "<h1> Insight 3: The vehicle accidents is related to the frequency of the number of casualties.</h1>"
   ]
  },
  {
   "cell_type": "code",
   "execution_count": 21,
   "id": "07288c15-b7a2-4f0f-995e-d8d908a9822b",
   "metadata": {},
   "outputs": [
    {
     "data": {
      "text/plain": [
       "0.2288888612692756"
      ]
     },
     "execution_count": 21,
     "metadata": {},
     "output_type": "execute_result"
    }
   ],
   "source": [
    "rsclc = accident['Number_of_Casualties'].corr(accident['Number_of_Vehicles'])\n",
    "rsclc"
   ]
  },
  {
   "cell_type": "code",
   "execution_count": 22,
   "id": "c3af2b59-4b68-4908-adea-0eff026d5bf7",
   "metadata": {},
   "outputs": [
    {
     "data": {
      "text/html": [
       "<div>\n",
       "<style scoped>\n",
       "    .dataframe tbody tr th:only-of-type {\n",
       "        vertical-align: middle;\n",
       "    }\n",
       "\n",
       "    .dataframe tbody tr th {\n",
       "        vertical-align: top;\n",
       "    }\n",
       "\n",
       "    .dataframe thead th {\n",
       "        text-align: right;\n",
       "    }\n",
       "</style>\n",
       "<table border=\"1\" class=\"dataframe\">\n",
       "  <thead>\n",
       "    <tr style=\"text-align: right;\">\n",
       "      <th>Urban_or_Rural_Area</th>\n",
       "      <th>Rural</th>\n",
       "      <th>Unallocated</th>\n",
       "      <th>Urban</th>\n",
       "    </tr>\n",
       "    <tr>\n",
       "      <th>District Area</th>\n",
       "      <th></th>\n",
       "      <th></th>\n",
       "      <th></th>\n",
       "    </tr>\n",
       "  </thead>\n",
       "  <tbody>\n",
       "    <tr>\n",
       "      <th>Aberdeen City</th>\n",
       "      <td>1.2</td>\n",
       "      <td>NaN</td>\n",
       "      <td>1.1</td>\n",
       "    </tr>\n",
       "    <tr>\n",
       "      <th>Aberdeenshire</th>\n",
       "      <td>1.3</td>\n",
       "      <td>NaN</td>\n",
       "      <td>1.1</td>\n",
       "    </tr>\n",
       "    <tr>\n",
       "      <th>Adur</th>\n",
       "      <td>1.5</td>\n",
       "      <td>NaN</td>\n",
       "      <td>1.3</td>\n",
       "    </tr>\n",
       "    <tr>\n",
       "      <th>Allerdale</th>\n",
       "      <td>1.5</td>\n",
       "      <td>NaN</td>\n",
       "      <td>1.3</td>\n",
       "    </tr>\n",
       "    <tr>\n",
       "      <th>Alnwick</th>\n",
       "      <td>1.5</td>\n",
       "      <td>NaN</td>\n",
       "      <td>NaN</td>\n",
       "    </tr>\n",
       "    <tr>\n",
       "      <th>...</th>\n",
       "      <td>...</td>\n",
       "      <td>...</td>\n",
       "      <td>...</td>\n",
       "    </tr>\n",
       "    <tr>\n",
       "      <th>Wychavon</th>\n",
       "      <td>1.5</td>\n",
       "      <td>NaN</td>\n",
       "      <td>1.2</td>\n",
       "    </tr>\n",
       "    <tr>\n",
       "      <th>Wycombe</th>\n",
       "      <td>1.5</td>\n",
       "      <td>NaN</td>\n",
       "      <td>1.3</td>\n",
       "    </tr>\n",
       "    <tr>\n",
       "      <th>Wyre</th>\n",
       "      <td>1.5</td>\n",
       "      <td>NaN</td>\n",
       "      <td>1.3</td>\n",
       "    </tr>\n",
       "    <tr>\n",
       "      <th>Wyre Forest</th>\n",
       "      <td>1.5</td>\n",
       "      <td>NaN</td>\n",
       "      <td>1.3</td>\n",
       "    </tr>\n",
       "    <tr>\n",
       "      <th>York</th>\n",
       "      <td>1.5</td>\n",
       "      <td>NaN</td>\n",
       "      <td>1.2</td>\n",
       "    </tr>\n",
       "  </tbody>\n",
       "</table>\n",
       "<p>422 rows × 3 columns</p>\n",
       "</div>"
      ],
      "text/plain": [
       "Urban_or_Rural_Area  Rural  Unallocated  Urban\n",
       "District Area                                 \n",
       "Aberdeen City          1.2          NaN    1.1\n",
       "Aberdeenshire          1.3          NaN    1.1\n",
       "Adur                   1.5          NaN    1.3\n",
       "Allerdale              1.5          NaN    1.3\n",
       "Alnwick                1.5          NaN    NaN\n",
       "...                    ...          ...    ...\n",
       "Wychavon               1.5          NaN    1.2\n",
       "Wycombe                1.5          NaN    1.3\n",
       "Wyre                   1.5          NaN    1.3\n",
       "Wyre Forest            1.5          NaN    1.3\n",
       "York                   1.5          NaN    1.2\n",
       "\n",
       "[422 rows x 3 columns]"
      ]
     },
     "execution_count": 22,
     "metadata": {},
     "output_type": "execute_result"
    }
   ],
   "source": [
    "rsclc = np.round(accident.groupby(['District Area','Urban_or_Rural_Area'])['Number_of_Casualties'].mean(),1)\n",
    "rsclc.unstack()"
   ]
  },
  {
   "cell_type": "code",
   "execution_count": 59,
   "id": "02e4bb57-e1d7-4d8e-980e-ae7f6c7b6b62",
   "metadata": {},
   "outputs": [
    {
     "data": {
      "text/html": [
       "<div>\n",
       "<style scoped>\n",
       "    .dataframe tbody tr th:only-of-type {\n",
       "        vertical-align: middle;\n",
       "    }\n",
       "\n",
       "    .dataframe tbody tr th {\n",
       "        vertical-align: top;\n",
       "    }\n",
       "\n",
       "    .dataframe thead th {\n",
       "        text-align: right;\n",
       "    }\n",
       "</style>\n",
       "<table border=\"1\" class=\"dataframe\">\n",
       "  <thead>\n",
       "    <tr style=\"text-align: right;\">\n",
       "      <th>Urban_or_Rural_Area</th>\n",
       "      <th>Rural</th>\n",
       "      <th>Unallocated</th>\n",
       "      <th>Urban</th>\n",
       "    </tr>\n",
       "    <tr>\n",
       "      <th>District Area</th>\n",
       "      <th></th>\n",
       "      <th></th>\n",
       "      <th></th>\n",
       "    </tr>\n",
       "  </thead>\n",
       "  <tbody>\n",
       "    <tr>\n",
       "      <th>Aberdeen City</th>\n",
       "      <td>1.7</td>\n",
       "      <td>NaN</td>\n",
       "      <td>1.6</td>\n",
       "    </tr>\n",
       "    <tr>\n",
       "      <th>Aberdeenshire</th>\n",
       "      <td>1.6</td>\n",
       "      <td>NaN</td>\n",
       "      <td>1.6</td>\n",
       "    </tr>\n",
       "    <tr>\n",
       "      <th>Adur</th>\n",
       "      <td>2.0</td>\n",
       "      <td>NaN</td>\n",
       "      <td>1.9</td>\n",
       "    </tr>\n",
       "    <tr>\n",
       "      <th>Allerdale</th>\n",
       "      <td>1.8</td>\n",
       "      <td>NaN</td>\n",
       "      <td>1.8</td>\n",
       "    </tr>\n",
       "    <tr>\n",
       "      <th>Alnwick</th>\n",
       "      <td>1.6</td>\n",
       "      <td>NaN</td>\n",
       "      <td>NaN</td>\n",
       "    </tr>\n",
       "    <tr>\n",
       "      <th>...</th>\n",
       "      <td>...</td>\n",
       "      <td>...</td>\n",
       "      <td>...</td>\n",
       "    </tr>\n",
       "    <tr>\n",
       "      <th>Wychavon</th>\n",
       "      <td>1.8</td>\n",
       "      <td>NaN</td>\n",
       "      <td>1.8</td>\n",
       "    </tr>\n",
       "    <tr>\n",
       "      <th>Wycombe</th>\n",
       "      <td>1.9</td>\n",
       "      <td>NaN</td>\n",
       "      <td>1.9</td>\n",
       "    </tr>\n",
       "    <tr>\n",
       "      <th>Wyre</th>\n",
       "      <td>1.9</td>\n",
       "      <td>NaN</td>\n",
       "      <td>1.9</td>\n",
       "    </tr>\n",
       "    <tr>\n",
       "      <th>Wyre Forest</th>\n",
       "      <td>1.8</td>\n",
       "      <td>NaN</td>\n",
       "      <td>1.8</td>\n",
       "    </tr>\n",
       "    <tr>\n",
       "      <th>York</th>\n",
       "      <td>2.0</td>\n",
       "      <td>NaN</td>\n",
       "      <td>1.8</td>\n",
       "    </tr>\n",
       "  </tbody>\n",
       "</table>\n",
       "<p>422 rows × 3 columns</p>\n",
       "</div>"
      ],
      "text/plain": [
       "Urban_or_Rural_Area  Rural  Unallocated  Urban\n",
       "District Area                                 \n",
       "Aberdeen City          1.7          NaN    1.6\n",
       "Aberdeenshire          1.6          NaN    1.6\n",
       "Adur                   2.0          NaN    1.9\n",
       "Allerdale              1.8          NaN    1.8\n",
       "Alnwick                1.6          NaN    NaN\n",
       "...                    ...          ...    ...\n",
       "Wychavon               1.8          NaN    1.8\n",
       "Wycombe                1.9          NaN    1.9\n",
       "Wyre                   1.9          NaN    1.9\n",
       "Wyre Forest            1.8          NaN    1.8\n",
       "York                   2.0          NaN    1.8\n",
       "\n",
       "[422 rows x 3 columns]"
      ]
     },
     "execution_count": 59,
     "metadata": {},
     "output_type": "execute_result"
    }
   ],
   "source": [
    "rsclc = np.round(accident.groupby(['District Area','Urban_or_Rural_Area'])['Number_of_Vehicles'].mean(),1)\n",
    "rsclc.unstack()"
   ]
  },
  {
   "cell_type": "markdown",
   "id": "ed0324ab-ded5-4778-8e94-b4a6e1be4a18",
   "metadata": {},
   "source": [
    "<h1> Insight 4: Most Accidents that happened all throughtout 2019 to 2022 is in Aberdeenshire in Rural Area</h1>"
   ]
  },
  {
   "cell_type": "code",
   "execution_count": 24,
   "id": "cb62784a-e826-4b61-9f9d-26f9b263711f",
   "metadata": {},
   "outputs": [
    {
     "data": {
      "text/html": [
       "<div>\n",
       "<style scoped>\n",
       "    .dataframe tbody tr th:only-of-type {\n",
       "        vertical-align: middle;\n",
       "    }\n",
       "\n",
       "    .dataframe tbody tr th {\n",
       "        vertical-align: top;\n",
       "    }\n",
       "\n",
       "    .dataframe thead th {\n",
       "        text-align: right;\n",
       "    }\n",
       "</style>\n",
       "<table border=\"1\" class=\"dataframe\">\n",
       "  <thead>\n",
       "    <tr style=\"text-align: right;\">\n",
       "      <th></th>\n",
       "      <th></th>\n",
       "      <th>Index</th>\n",
       "      <th>Accident_Severity</th>\n",
       "      <th>Accident Date</th>\n",
       "      <th>Latitude</th>\n",
       "      <th>Light_Conditions</th>\n",
       "      <th>Longitude</th>\n",
       "      <th>Number_of_Casualties</th>\n",
       "      <th>Number_of_Vehicles</th>\n",
       "      <th>Road_Surface_Conditions</th>\n",
       "      <th>Road_Type</th>\n",
       "      <th>Weather_Conditions</th>\n",
       "      <th>Vehicle_Type</th>\n",
       "      <th>Year</th>\n",
       "      <th>Month</th>\n",
       "      <th>Day</th>\n",
       "      <th>DayOfWeek</th>\n",
       "    </tr>\n",
       "    <tr>\n",
       "      <th>District Area</th>\n",
       "      <th>Urban_or_Rural_Area</th>\n",
       "      <th></th>\n",
       "      <th></th>\n",
       "      <th></th>\n",
       "      <th></th>\n",
       "      <th></th>\n",
       "      <th></th>\n",
       "      <th></th>\n",
       "      <th></th>\n",
       "      <th></th>\n",
       "      <th></th>\n",
       "      <th></th>\n",
       "      <th></th>\n",
       "      <th></th>\n",
       "      <th></th>\n",
       "      <th></th>\n",
       "      <th></th>\n",
       "    </tr>\n",
       "  </thead>\n",
       "  <tbody>\n",
       "    <tr>\n",
       "      <th rowspan=\"2\" valign=\"top\">Aberdeen City</th>\n",
       "      <th>Rural</th>\n",
       "      <td>207</td>\n",
       "      <td>207</td>\n",
       "      <td>207</td>\n",
       "      <td>207</td>\n",
       "      <td>207</td>\n",
       "      <td>207</td>\n",
       "      <td>207</td>\n",
       "      <td>207</td>\n",
       "      <td>207</td>\n",
       "      <td>207</td>\n",
       "      <td>207</td>\n",
       "      <td>207</td>\n",
       "      <td>207</td>\n",
       "      <td>207</td>\n",
       "      <td>207</td>\n",
       "      <td>207</td>\n",
       "    </tr>\n",
       "    <tr>\n",
       "      <th>Urban</th>\n",
       "      <td>1116</td>\n",
       "      <td>1116</td>\n",
       "      <td>1116</td>\n",
       "      <td>1116</td>\n",
       "      <td>1116</td>\n",
       "      <td>1116</td>\n",
       "      <td>1116</td>\n",
       "      <td>1116</td>\n",
       "      <td>1116</td>\n",
       "      <td>1116</td>\n",
       "      <td>1116</td>\n",
       "      <td>1116</td>\n",
       "      <td>1116</td>\n",
       "      <td>1116</td>\n",
       "      <td>1116</td>\n",
       "      <td>1116</td>\n",
       "    </tr>\n",
       "    <tr>\n",
       "      <th rowspan=\"2\" valign=\"top\">Aberdeenshire</th>\n",
       "      <th>Rural</th>\n",
       "      <td>1781</td>\n",
       "      <td>1781</td>\n",
       "      <td>1781</td>\n",
       "      <td>1781</td>\n",
       "      <td>1781</td>\n",
       "      <td>1781</td>\n",
       "      <td>1781</td>\n",
       "      <td>1781</td>\n",
       "      <td>1781</td>\n",
       "      <td>1781</td>\n",
       "      <td>1781</td>\n",
       "      <td>1781</td>\n",
       "      <td>1781</td>\n",
       "      <td>1781</td>\n",
       "      <td>1781</td>\n",
       "      <td>1781</td>\n",
       "    </tr>\n",
       "    <tr>\n",
       "      <th>Urban</th>\n",
       "      <td>149</td>\n",
       "      <td>149</td>\n",
       "      <td>149</td>\n",
       "      <td>149</td>\n",
       "      <td>149</td>\n",
       "      <td>149</td>\n",
       "      <td>149</td>\n",
       "      <td>149</td>\n",
       "      <td>149</td>\n",
       "      <td>149</td>\n",
       "      <td>149</td>\n",
       "      <td>149</td>\n",
       "      <td>149</td>\n",
       "      <td>149</td>\n",
       "      <td>149</td>\n",
       "      <td>149</td>\n",
       "    </tr>\n",
       "    <tr>\n",
       "      <th>Adur</th>\n",
       "      <th>Rural</th>\n",
       "      <td>197</td>\n",
       "      <td>197</td>\n",
       "      <td>197</td>\n",
       "      <td>197</td>\n",
       "      <td>197</td>\n",
       "      <td>197</td>\n",
       "      <td>197</td>\n",
       "      <td>197</td>\n",
       "      <td>197</td>\n",
       "      <td>197</td>\n",
       "      <td>197</td>\n",
       "      <td>197</td>\n",
       "      <td>197</td>\n",
       "      <td>197</td>\n",
       "      <td>197</td>\n",
       "      <td>197</td>\n",
       "    </tr>\n",
       "    <tr>\n",
       "      <th>...</th>\n",
       "      <th>...</th>\n",
       "      <td>...</td>\n",
       "      <td>...</td>\n",
       "      <td>...</td>\n",
       "      <td>...</td>\n",
       "      <td>...</td>\n",
       "      <td>...</td>\n",
       "      <td>...</td>\n",
       "      <td>...</td>\n",
       "      <td>...</td>\n",
       "      <td>...</td>\n",
       "      <td>...</td>\n",
       "      <td>...</td>\n",
       "      <td>...</td>\n",
       "      <td>...</td>\n",
       "      <td>...</td>\n",
       "      <td>...</td>\n",
       "    </tr>\n",
       "    <tr>\n",
       "      <th>Wyre</th>\n",
       "      <th>Urban</th>\n",
       "      <td>758</td>\n",
       "      <td>758</td>\n",
       "      <td>758</td>\n",
       "      <td>758</td>\n",
       "      <td>758</td>\n",
       "      <td>758</td>\n",
       "      <td>758</td>\n",
       "      <td>758</td>\n",
       "      <td>758</td>\n",
       "      <td>758</td>\n",
       "      <td>758</td>\n",
       "      <td>758</td>\n",
       "      <td>758</td>\n",
       "      <td>758</td>\n",
       "      <td>758</td>\n",
       "      <td>758</td>\n",
       "    </tr>\n",
       "    <tr>\n",
       "      <th rowspan=\"2\" valign=\"top\">Wyre Forest</th>\n",
       "      <th>Rural</th>\n",
       "      <td>419</td>\n",
       "      <td>419</td>\n",
       "      <td>419</td>\n",
       "      <td>419</td>\n",
       "      <td>419</td>\n",
       "      <td>419</td>\n",
       "      <td>419</td>\n",
       "      <td>419</td>\n",
       "      <td>419</td>\n",
       "      <td>419</td>\n",
       "      <td>419</td>\n",
       "      <td>419</td>\n",
       "      <td>419</td>\n",
       "      <td>419</td>\n",
       "      <td>419</td>\n",
       "      <td>419</td>\n",
       "    </tr>\n",
       "    <tr>\n",
       "      <th>Urban</th>\n",
       "      <td>550</td>\n",
       "      <td>550</td>\n",
       "      <td>550</td>\n",
       "      <td>550</td>\n",
       "      <td>550</td>\n",
       "      <td>550</td>\n",
       "      <td>550</td>\n",
       "      <td>550</td>\n",
       "      <td>550</td>\n",
       "      <td>550</td>\n",
       "      <td>550</td>\n",
       "      <td>550</td>\n",
       "      <td>550</td>\n",
       "      <td>550</td>\n",
       "      <td>550</td>\n",
       "      <td>550</td>\n",
       "    </tr>\n",
       "    <tr>\n",
       "      <th rowspan=\"2\" valign=\"top\">York</th>\n",
       "      <th>Rural</th>\n",
       "      <td>706</td>\n",
       "      <td>706</td>\n",
       "      <td>706</td>\n",
       "      <td>706</td>\n",
       "      <td>706</td>\n",
       "      <td>706</td>\n",
       "      <td>706</td>\n",
       "      <td>706</td>\n",
       "      <td>706</td>\n",
       "      <td>706</td>\n",
       "      <td>706</td>\n",
       "      <td>706</td>\n",
       "      <td>706</td>\n",
       "      <td>706</td>\n",
       "      <td>706</td>\n",
       "      <td>706</td>\n",
       "    </tr>\n",
       "    <tr>\n",
       "      <th>Urban</th>\n",
       "      <td>1191</td>\n",
       "      <td>1191</td>\n",
       "      <td>1191</td>\n",
       "      <td>1191</td>\n",
       "      <td>1191</td>\n",
       "      <td>1191</td>\n",
       "      <td>1191</td>\n",
       "      <td>1191</td>\n",
       "      <td>1191</td>\n",
       "      <td>1191</td>\n",
       "      <td>1191</td>\n",
       "      <td>1191</td>\n",
       "      <td>1191</td>\n",
       "      <td>1191</td>\n",
       "      <td>1191</td>\n",
       "      <td>1191</td>\n",
       "    </tr>\n",
       "  </tbody>\n",
       "</table>\n",
       "<p>824 rows × 16 columns</p>\n",
       "</div>"
      ],
      "text/plain": [
       "                                   Index  Accident_Severity  Accident Date  \\\n",
       "District Area Urban_or_Rural_Area                                            \n",
       "Aberdeen City Rural                  207                207            207   \n",
       "              Urban                 1116               1116           1116   \n",
       "Aberdeenshire Rural                 1781               1781           1781   \n",
       "              Urban                  149                149            149   \n",
       "Adur          Rural                  197                197            197   \n",
       "...                                  ...                ...            ...   \n",
       "Wyre          Urban                  758                758            758   \n",
       "Wyre Forest   Rural                  419                419            419   \n",
       "              Urban                  550                550            550   \n",
       "York          Rural                  706                706            706   \n",
       "              Urban                 1191               1191           1191   \n",
       "\n",
       "                                   Latitude  Light_Conditions  Longitude  \\\n",
       "District Area Urban_or_Rural_Area                                          \n",
       "Aberdeen City Rural                     207               207        207   \n",
       "              Urban                    1116              1116       1116   \n",
       "Aberdeenshire Rural                    1781              1781       1781   \n",
       "              Urban                     149               149        149   \n",
       "Adur          Rural                     197               197        197   \n",
       "...                                     ...               ...        ...   \n",
       "Wyre          Urban                     758               758        758   \n",
       "Wyre Forest   Rural                     419               419        419   \n",
       "              Urban                     550               550        550   \n",
       "York          Rural                     706               706        706   \n",
       "              Urban                    1191              1191       1191   \n",
       "\n",
       "                                   Number_of_Casualties  Number_of_Vehicles  \\\n",
       "District Area Urban_or_Rural_Area                                             \n",
       "Aberdeen City Rural                                 207                 207   \n",
       "              Urban                                1116                1116   \n",
       "Aberdeenshire Rural                                1781                1781   \n",
       "              Urban                                 149                 149   \n",
       "Adur          Rural                                 197                 197   \n",
       "...                                                 ...                 ...   \n",
       "Wyre          Urban                                 758                 758   \n",
       "Wyre Forest   Rural                                 419                 419   \n",
       "              Urban                                 550                 550   \n",
       "York          Rural                                 706                 706   \n",
       "              Urban                                1191                1191   \n",
       "\n",
       "                                   Road_Surface_Conditions  Road_Type  \\\n",
       "District Area Urban_or_Rural_Area                                       \n",
       "Aberdeen City Rural                                    207        207   \n",
       "              Urban                                   1116       1116   \n",
       "Aberdeenshire Rural                                   1781       1781   \n",
       "              Urban                                    149        149   \n",
       "Adur          Rural                                    197        197   \n",
       "...                                                    ...        ...   \n",
       "Wyre          Urban                                    758        758   \n",
       "Wyre Forest   Rural                                    419        419   \n",
       "              Urban                                    550        550   \n",
       "York          Rural                                    706        706   \n",
       "              Urban                                   1191       1191   \n",
       "\n",
       "                                   Weather_Conditions  Vehicle_Type  Year  \\\n",
       "District Area Urban_or_Rural_Area                                           \n",
       "Aberdeen City Rural                               207           207   207   \n",
       "              Urban                              1116          1116  1116   \n",
       "Aberdeenshire Rural                              1781          1781  1781   \n",
       "              Urban                               149           149   149   \n",
       "Adur          Rural                               197           197   197   \n",
       "...                                               ...           ...   ...   \n",
       "Wyre          Urban                               758           758   758   \n",
       "Wyre Forest   Rural                               419           419   419   \n",
       "              Urban                               550           550   550   \n",
       "York          Rural                               706           706   706   \n",
       "              Urban                              1191          1191  1191   \n",
       "\n",
       "                                   Month   Day  DayOfWeek  \n",
       "District Area Urban_or_Rural_Area                          \n",
       "Aberdeen City Rural                  207   207        207  \n",
       "              Urban                 1116  1116       1116  \n",
       "Aberdeenshire Rural                 1781  1781       1781  \n",
       "              Urban                  149   149        149  \n",
       "Adur          Rural                  197   197        197  \n",
       "...                                  ...   ...        ...  \n",
       "Wyre          Urban                  758   758        758  \n",
       "Wyre Forest   Rural                  419   419        419  \n",
       "              Urban                  550   550        550  \n",
       "York          Rural                  706   706        706  \n",
       "              Urban                 1191  1191       1191  \n",
       "\n",
       "[824 rows x 16 columns]"
      ]
     },
     "execution_count": 24,
     "metadata": {},
     "output_type": "execute_result"
    }
   ],
   "source": [
    "surface = accident.groupby(['District Area','Urban_or_Rural_Area']).count()\n",
    "surface"
   ]
  },
  {
   "cell_type": "markdown",
   "id": "1cf56f6e-7e7e-470e-8b96-8f53217da3b1",
   "metadata": {},
   "source": [
    "<h1> Insight 5: The number of casualties has been decreasing each year, considering the severity of the fatalities caused by accidents.</h1>"
   ]
  },
  {
   "cell_type": "code",
   "execution_count": 25,
   "id": "87cd1916-aa5e-4568-8fa2-f24102baa1b4",
   "metadata": {},
   "outputs": [
    {
     "data": {
      "text/plain": [
       "Year\n",
       "2019    2714\n",
       "2020    2341\n",
       "2021    2057\n",
       "2022    1549\n",
       "dtype: int64"
      ]
     },
     "execution_count": 25,
     "metadata": {},
     "output_type": "execute_result"
    }
   ],
   "source": [
    "casualties_per_year = accident[accident['Accident_Severity'] == 'Fatal'].groupby('Year').size()\n",
    "casualties_per_year"
   ]
  },
  {
   "cell_type": "markdown",
   "id": "2b35cdab-d144-4009-a080-11a3370743fc",
   "metadata": {},
   "source": [
    "<h1> Insight 6: Single carriageway is the most prone to accident when it comes to Road types</h1>"
   ]
  },
  {
   "cell_type": "code",
   "execution_count": 26,
   "id": "34a72712-1da5-4107-a88e-aa76c79a9c6a",
   "metadata": {},
   "outputs": [
    {
     "data": {
      "text/plain": [
       "Road_Type\n",
       "Single carriageway    6527\n",
       "Dual carriageway      1815\n",
       "Roundabout             142\n",
       "One way street          95\n",
       "Slip road               49\n",
       "unaccounted             33\n",
       "Name: count, dtype: int64"
      ]
     },
     "execution_count": 26,
     "metadata": {},
     "output_type": "execute_result"
    }
   ],
   "source": [
    "casualties_road_types = accident[accident['Accident_Severity'] == 'Fatal']['Road_Type'].value_counts()\n",
    "casualties_road_types"
   ]
  },
  {
   "cell_type": "markdown",
   "id": "8556aa52-0939-49a4-b2bc-ec398a769d2b",
   "metadata": {},
   "source": [
    "<h1> Insight 7: The most accidents that happened all throughout 2019 to 2022 is in Single Carriageway with half a million Slight Accident Severity </h1>"
   ]
  },
  {
   "cell_type": "code",
   "execution_count": 62,
   "id": "1b65ebf0-3296-4d78-ae21-4b16d65f0eda",
   "metadata": {},
   "outputs": [
    {
     "data": {
      "text/html": [
       "<div>\n",
       "<style scoped>\n",
       "    .dataframe tbody tr th:only-of-type {\n",
       "        vertical-align: middle;\n",
       "    }\n",
       "\n",
       "    .dataframe tbody tr th {\n",
       "        vertical-align: top;\n",
       "    }\n",
       "\n",
       "    .dataframe thead th {\n",
       "        text-align: right;\n",
       "    }\n",
       "</style>\n",
       "<table border=\"1\" class=\"dataframe\">\n",
       "  <thead>\n",
       "    <tr style=\"text-align: right;\">\n",
       "      <th></th>\n",
       "      <th></th>\n",
       "      <th>Index</th>\n",
       "      <th>Accident Date</th>\n",
       "      <th>Latitude</th>\n",
       "      <th>Light_Conditions</th>\n",
       "      <th>District Area</th>\n",
       "      <th>Longitude</th>\n",
       "      <th>Number_of_Casualties</th>\n",
       "      <th>Number_of_Vehicles</th>\n",
       "      <th>Road_Surface_Conditions</th>\n",
       "      <th>Urban_or_Rural_Area</th>\n",
       "      <th>Weather_Conditions</th>\n",
       "      <th>Vehicle_Type</th>\n",
       "      <th>Year</th>\n",
       "      <th>Month</th>\n",
       "      <th>Day</th>\n",
       "      <th>DayOfWeek</th>\n",
       "    </tr>\n",
       "    <tr>\n",
       "      <th>Road_Type</th>\n",
       "      <th>Accident_Severity</th>\n",
       "      <th></th>\n",
       "      <th></th>\n",
       "      <th></th>\n",
       "      <th></th>\n",
       "      <th></th>\n",
       "      <th></th>\n",
       "      <th></th>\n",
       "      <th></th>\n",
       "      <th></th>\n",
       "      <th></th>\n",
       "      <th></th>\n",
       "      <th></th>\n",
       "      <th></th>\n",
       "      <th></th>\n",
       "      <th></th>\n",
       "      <th></th>\n",
       "    </tr>\n",
       "  </thead>\n",
       "  <tbody>\n",
       "    <tr>\n",
       "      <th rowspan=\"3\" valign=\"top\">Dual carriageway</th>\n",
       "      <th>Fatal</th>\n",
       "      <td>1815</td>\n",
       "      <td>1815</td>\n",
       "      <td>1815</td>\n",
       "      <td>1815</td>\n",
       "      <td>1815</td>\n",
       "      <td>1815</td>\n",
       "      <td>1815</td>\n",
       "      <td>1815</td>\n",
       "      <td>1815</td>\n",
       "      <td>1815</td>\n",
       "      <td>1815</td>\n",
       "      <td>1815</td>\n",
       "      <td>1815</td>\n",
       "      <td>1815</td>\n",
       "      <td>1815</td>\n",
       "      <td>1815</td>\n",
       "    </tr>\n",
       "    <tr>\n",
       "      <th>Serious</th>\n",
       "      <td>11746</td>\n",
       "      <td>11746</td>\n",
       "      <td>11746</td>\n",
       "      <td>11746</td>\n",
       "      <td>11746</td>\n",
       "      <td>11746</td>\n",
       "      <td>11746</td>\n",
       "      <td>11746</td>\n",
       "      <td>11746</td>\n",
       "      <td>11746</td>\n",
       "      <td>11746</td>\n",
       "      <td>11746</td>\n",
       "      <td>11746</td>\n",
       "      <td>11746</td>\n",
       "      <td>11746</td>\n",
       "      <td>11746</td>\n",
       "    </tr>\n",
       "    <tr>\n",
       "      <th>Slight</th>\n",
       "      <td>85863</td>\n",
       "      <td>85863</td>\n",
       "      <td>85863</td>\n",
       "      <td>85863</td>\n",
       "      <td>85863</td>\n",
       "      <td>85863</td>\n",
       "      <td>85863</td>\n",
       "      <td>85863</td>\n",
       "      <td>85863</td>\n",
       "      <td>85863</td>\n",
       "      <td>85863</td>\n",
       "      <td>85863</td>\n",
       "      <td>85863</td>\n",
       "      <td>85863</td>\n",
       "      <td>85863</td>\n",
       "      <td>85863</td>\n",
       "    </tr>\n",
       "    <tr>\n",
       "      <th rowspan=\"3\" valign=\"top\">One way street</th>\n",
       "      <th>Fatal</th>\n",
       "      <td>95</td>\n",
       "      <td>95</td>\n",
       "      <td>95</td>\n",
       "      <td>95</td>\n",
       "      <td>95</td>\n",
       "      <td>95</td>\n",
       "      <td>95</td>\n",
       "      <td>95</td>\n",
       "      <td>95</td>\n",
       "      <td>95</td>\n",
       "      <td>95</td>\n",
       "      <td>95</td>\n",
       "      <td>95</td>\n",
       "      <td>95</td>\n",
       "      <td>95</td>\n",
       "      <td>95</td>\n",
       "    </tr>\n",
       "    <tr>\n",
       "      <th>Serious</th>\n",
       "      <td>1655</td>\n",
       "      <td>1655</td>\n",
       "      <td>1655</td>\n",
       "      <td>1655</td>\n",
       "      <td>1655</td>\n",
       "      <td>1655</td>\n",
       "      <td>1655</td>\n",
       "      <td>1655</td>\n",
       "      <td>1655</td>\n",
       "      <td>1655</td>\n",
       "      <td>1655</td>\n",
       "      <td>1655</td>\n",
       "      <td>1655</td>\n",
       "      <td>1655</td>\n",
       "      <td>1655</td>\n",
       "      <td>1655</td>\n",
       "    </tr>\n",
       "    <tr>\n",
       "      <th>Slight</th>\n",
       "      <td>11809</td>\n",
       "      <td>11809</td>\n",
       "      <td>11809</td>\n",
       "      <td>11809</td>\n",
       "      <td>11809</td>\n",
       "      <td>11809</td>\n",
       "      <td>11809</td>\n",
       "      <td>11809</td>\n",
       "      <td>11809</td>\n",
       "      <td>11809</td>\n",
       "      <td>11809</td>\n",
       "      <td>11809</td>\n",
       "      <td>11809</td>\n",
       "      <td>11809</td>\n",
       "      <td>11809</td>\n",
       "      <td>11809</td>\n",
       "    </tr>\n",
       "    <tr>\n",
       "      <th rowspan=\"3\" valign=\"top\">Roundabout</th>\n",
       "      <th>Fatal</th>\n",
       "      <td>142</td>\n",
       "      <td>142</td>\n",
       "      <td>142</td>\n",
       "      <td>142</td>\n",
       "      <td>142</td>\n",
       "      <td>142</td>\n",
       "      <td>142</td>\n",
       "      <td>142</td>\n",
       "      <td>142</td>\n",
       "      <td>142</td>\n",
       "      <td>142</td>\n",
       "      <td>142</td>\n",
       "      <td>142</td>\n",
       "      <td>142</td>\n",
       "      <td>142</td>\n",
       "      <td>142</td>\n",
       "    </tr>\n",
       "    <tr>\n",
       "      <th>Serious</th>\n",
       "      <td>3665</td>\n",
       "      <td>3665</td>\n",
       "      <td>3665</td>\n",
       "      <td>3665</td>\n",
       "      <td>3665</td>\n",
       "      <td>3665</td>\n",
       "      <td>3665</td>\n",
       "      <td>3665</td>\n",
       "      <td>3665</td>\n",
       "      <td>3665</td>\n",
       "      <td>3665</td>\n",
       "      <td>3665</td>\n",
       "      <td>3665</td>\n",
       "      <td>3665</td>\n",
       "      <td>3665</td>\n",
       "      <td>3665</td>\n",
       "    </tr>\n",
       "    <tr>\n",
       "      <th>Slight</th>\n",
       "      <td>40185</td>\n",
       "      <td>40185</td>\n",
       "      <td>40185</td>\n",
       "      <td>40185</td>\n",
       "      <td>40185</td>\n",
       "      <td>40185</td>\n",
       "      <td>40185</td>\n",
       "      <td>40185</td>\n",
       "      <td>40185</td>\n",
       "      <td>40185</td>\n",
       "      <td>40185</td>\n",
       "      <td>40185</td>\n",
       "      <td>40185</td>\n",
       "      <td>40185</td>\n",
       "      <td>40185</td>\n",
       "      <td>40185</td>\n",
       "    </tr>\n",
       "    <tr>\n",
       "      <th rowspan=\"3\" valign=\"top\">Single carriageway</th>\n",
       "      <th>Fatal</th>\n",
       "      <td>6527</td>\n",
       "      <td>6527</td>\n",
       "      <td>6527</td>\n",
       "      <td>6527</td>\n",
       "      <td>6527</td>\n",
       "      <td>6527</td>\n",
       "      <td>6527</td>\n",
       "      <td>6527</td>\n",
       "      <td>6527</td>\n",
       "      <td>6527</td>\n",
       "      <td>6527</td>\n",
       "      <td>6527</td>\n",
       "      <td>6527</td>\n",
       "      <td>6527</td>\n",
       "      <td>6527</td>\n",
       "      <td>6527</td>\n",
       "    </tr>\n",
       "    <tr>\n",
       "      <th>Serious</th>\n",
       "      <td>70059</td>\n",
       "      <td>70059</td>\n",
       "      <td>70059</td>\n",
       "      <td>70059</td>\n",
       "      <td>70059</td>\n",
       "      <td>70059</td>\n",
       "      <td>70059</td>\n",
       "      <td>70059</td>\n",
       "      <td>70059</td>\n",
       "      <td>70059</td>\n",
       "      <td>70059</td>\n",
       "      <td>70059</td>\n",
       "      <td>70059</td>\n",
       "      <td>70059</td>\n",
       "      <td>70059</td>\n",
       "      <td>70059</td>\n",
       "    </tr>\n",
       "    <tr>\n",
       "      <th>Slight</th>\n",
       "      <td>415557</td>\n",
       "      <td>415557</td>\n",
       "      <td>415557</td>\n",
       "      <td>415557</td>\n",
       "      <td>415557</td>\n",
       "      <td>415557</td>\n",
       "      <td>415557</td>\n",
       "      <td>415557</td>\n",
       "      <td>415557</td>\n",
       "      <td>415557</td>\n",
       "      <td>415557</td>\n",
       "      <td>415557</td>\n",
       "      <td>415557</td>\n",
       "      <td>415557</td>\n",
       "      <td>415557</td>\n",
       "      <td>415557</td>\n",
       "    </tr>\n",
       "    <tr>\n",
       "      <th rowspan=\"3\" valign=\"top\">Slip road</th>\n",
       "      <th>Fatal</th>\n",
       "      <td>49</td>\n",
       "      <td>49</td>\n",
       "      <td>49</td>\n",
       "      <td>49</td>\n",
       "      <td>49</td>\n",
       "      <td>49</td>\n",
       "      <td>49</td>\n",
       "      <td>49</td>\n",
       "      <td>49</td>\n",
       "      <td>49</td>\n",
       "      <td>49</td>\n",
       "      <td>49</td>\n",
       "      <td>49</td>\n",
       "      <td>49</td>\n",
       "      <td>49</td>\n",
       "      <td>49</td>\n",
       "    </tr>\n",
       "    <tr>\n",
       "      <th>Serious</th>\n",
       "      <td>611</td>\n",
       "      <td>611</td>\n",
       "      <td>611</td>\n",
       "      <td>611</td>\n",
       "      <td>611</td>\n",
       "      <td>611</td>\n",
       "      <td>611</td>\n",
       "      <td>611</td>\n",
       "      <td>611</td>\n",
       "      <td>611</td>\n",
       "      <td>611</td>\n",
       "      <td>611</td>\n",
       "      <td>611</td>\n",
       "      <td>611</td>\n",
       "      <td>611</td>\n",
       "      <td>611</td>\n",
       "    </tr>\n",
       "    <tr>\n",
       "      <th>Slight</th>\n",
       "      <td>6381</td>\n",
       "      <td>6381</td>\n",
       "      <td>6381</td>\n",
       "      <td>6381</td>\n",
       "      <td>6381</td>\n",
       "      <td>6381</td>\n",
       "      <td>6381</td>\n",
       "      <td>6381</td>\n",
       "      <td>6381</td>\n",
       "      <td>6381</td>\n",
       "      <td>6381</td>\n",
       "      <td>6381</td>\n",
       "      <td>6381</td>\n",
       "      <td>6381</td>\n",
       "      <td>6381</td>\n",
       "      <td>6381</td>\n",
       "    </tr>\n",
       "    <tr>\n",
       "      <th rowspan=\"3\" valign=\"top\">unaccounted</th>\n",
       "      <th>Fatal</th>\n",
       "      <td>33</td>\n",
       "      <td>33</td>\n",
       "      <td>33</td>\n",
       "      <td>33</td>\n",
       "      <td>33</td>\n",
       "      <td>33</td>\n",
       "      <td>33</td>\n",
       "      <td>33</td>\n",
       "      <td>33</td>\n",
       "      <td>33</td>\n",
       "      <td>33</td>\n",
       "      <td>33</td>\n",
       "      <td>33</td>\n",
       "      <td>33</td>\n",
       "      <td>33</td>\n",
       "      <td>33</td>\n",
       "    </tr>\n",
       "    <tr>\n",
       "      <th>Serious</th>\n",
       "      <td>481</td>\n",
       "      <td>481</td>\n",
       "      <td>481</td>\n",
       "      <td>481</td>\n",
       "      <td>481</td>\n",
       "      <td>481</td>\n",
       "      <td>481</td>\n",
       "      <td>481</td>\n",
       "      <td>481</td>\n",
       "      <td>481</td>\n",
       "      <td>481</td>\n",
       "      <td>481</td>\n",
       "      <td>481</td>\n",
       "      <td>481</td>\n",
       "      <td>481</td>\n",
       "      <td>481</td>\n",
       "    </tr>\n",
       "    <tr>\n",
       "      <th>Slight</th>\n",
       "      <td>4006</td>\n",
       "      <td>4006</td>\n",
       "      <td>4006</td>\n",
       "      <td>4006</td>\n",
       "      <td>4006</td>\n",
       "      <td>4006</td>\n",
       "      <td>4006</td>\n",
       "      <td>4006</td>\n",
       "      <td>4006</td>\n",
       "      <td>4006</td>\n",
       "      <td>4006</td>\n",
       "      <td>4006</td>\n",
       "      <td>4006</td>\n",
       "      <td>4006</td>\n",
       "      <td>4006</td>\n",
       "      <td>4006</td>\n",
       "    </tr>\n",
       "  </tbody>\n",
       "</table>\n",
       "</div>"
      ],
      "text/plain": [
       "                                       Index  Accident Date  Latitude  \\\n",
       "Road_Type          Accident_Severity                                    \n",
       "Dual carriageway   Fatal                1815           1815      1815   \n",
       "                   Serious             11746          11746     11746   \n",
       "                   Slight              85863          85863     85863   \n",
       "One way street     Fatal                  95             95        95   \n",
       "                   Serious              1655           1655      1655   \n",
       "                   Slight              11809          11809     11809   \n",
       "Roundabout         Fatal                 142            142       142   \n",
       "                   Serious              3665           3665      3665   \n",
       "                   Slight              40185          40185     40185   \n",
       "Single carriageway Fatal                6527           6527      6527   \n",
       "                   Serious             70059          70059     70059   \n",
       "                   Slight             415557         415557    415557   \n",
       "Slip road          Fatal                  49             49        49   \n",
       "                   Serious               611            611       611   \n",
       "                   Slight               6381           6381      6381   \n",
       "unaccounted        Fatal                  33             33        33   \n",
       "                   Serious               481            481       481   \n",
       "                   Slight               4006           4006      4006   \n",
       "\n",
       "                                      Light_Conditions  District Area  \\\n",
       "Road_Type          Accident_Severity                                    \n",
       "Dual carriageway   Fatal                          1815           1815   \n",
       "                   Serious                       11746          11746   \n",
       "                   Slight                        85863          85863   \n",
       "One way street     Fatal                            95             95   \n",
       "                   Serious                        1655           1655   \n",
       "                   Slight                        11809          11809   \n",
       "Roundabout         Fatal                           142            142   \n",
       "                   Serious                        3665           3665   \n",
       "                   Slight                        40185          40185   \n",
       "Single carriageway Fatal                          6527           6527   \n",
       "                   Serious                       70059          70059   \n",
       "                   Slight                       415557         415557   \n",
       "Slip road          Fatal                            49             49   \n",
       "                   Serious                         611            611   \n",
       "                   Slight                         6381           6381   \n",
       "unaccounted        Fatal                            33             33   \n",
       "                   Serious                         481            481   \n",
       "                   Slight                         4006           4006   \n",
       "\n",
       "                                      Longitude  Number_of_Casualties  \\\n",
       "Road_Type          Accident_Severity                                    \n",
       "Dual carriageway   Fatal                   1815                  1815   \n",
       "                   Serious                11746                 11746   \n",
       "                   Slight                 85863                 85863   \n",
       "One way street     Fatal                     95                    95   \n",
       "                   Serious                 1655                  1655   \n",
       "                   Slight                 11809                 11809   \n",
       "Roundabout         Fatal                    142                   142   \n",
       "                   Serious                 3665                  3665   \n",
       "                   Slight                 40185                 40185   \n",
       "Single carriageway Fatal                   6527                  6527   \n",
       "                   Serious                70059                 70059   \n",
       "                   Slight                415557                415557   \n",
       "Slip road          Fatal                     49                    49   \n",
       "                   Serious                  611                   611   \n",
       "                   Slight                  6381                  6381   \n",
       "unaccounted        Fatal                     33                    33   \n",
       "                   Serious                  481                   481   \n",
       "                   Slight                  4006                  4006   \n",
       "\n",
       "                                      Number_of_Vehicles  \\\n",
       "Road_Type          Accident_Severity                       \n",
       "Dual carriageway   Fatal                            1815   \n",
       "                   Serious                         11746   \n",
       "                   Slight                          85863   \n",
       "One way street     Fatal                              95   \n",
       "                   Serious                          1655   \n",
       "                   Slight                          11809   \n",
       "Roundabout         Fatal                             142   \n",
       "                   Serious                          3665   \n",
       "                   Slight                          40185   \n",
       "Single carriageway Fatal                            6527   \n",
       "                   Serious                         70059   \n",
       "                   Slight                         415557   \n",
       "Slip road          Fatal                              49   \n",
       "                   Serious                           611   \n",
       "                   Slight                           6381   \n",
       "unaccounted        Fatal                              33   \n",
       "                   Serious                           481   \n",
       "                   Slight                           4006   \n",
       "\n",
       "                                      Road_Surface_Conditions  \\\n",
       "Road_Type          Accident_Severity                            \n",
       "Dual carriageway   Fatal                                 1815   \n",
       "                   Serious                              11746   \n",
       "                   Slight                               85863   \n",
       "One way street     Fatal                                   95   \n",
       "                   Serious                               1655   \n",
       "                   Slight                               11809   \n",
       "Roundabout         Fatal                                  142   \n",
       "                   Serious                               3665   \n",
       "                   Slight                               40185   \n",
       "Single carriageway Fatal                                 6527   \n",
       "                   Serious                              70059   \n",
       "                   Slight                              415557   \n",
       "Slip road          Fatal                                   49   \n",
       "                   Serious                                611   \n",
       "                   Slight                                6381   \n",
       "unaccounted        Fatal                                   33   \n",
       "                   Serious                                481   \n",
       "                   Slight                                4006   \n",
       "\n",
       "                                      Urban_or_Rural_Area  Weather_Conditions  \\\n",
       "Road_Type          Accident_Severity                                            \n",
       "Dual carriageway   Fatal                             1815                1815   \n",
       "                   Serious                          11746               11746   \n",
       "                   Slight                           85863               85863   \n",
       "One way street     Fatal                               95                  95   \n",
       "                   Serious                           1655                1655   \n",
       "                   Slight                           11809               11809   \n",
       "Roundabout         Fatal                              142                 142   \n",
       "                   Serious                           3665                3665   \n",
       "                   Slight                           40185               40185   \n",
       "Single carriageway Fatal                             6527                6527   \n",
       "                   Serious                          70059               70059   \n",
       "                   Slight                          415557              415557   \n",
       "Slip road          Fatal                               49                  49   \n",
       "                   Serious                            611                 611   \n",
       "                   Slight                            6381                6381   \n",
       "unaccounted        Fatal                               33                  33   \n",
       "                   Serious                            481                 481   \n",
       "                   Slight                            4006                4006   \n",
       "\n",
       "                                      Vehicle_Type    Year   Month     Day  \\\n",
       "Road_Type          Accident_Severity                                         \n",
       "Dual carriageway   Fatal                      1815    1815    1815    1815   \n",
       "                   Serious                   11746   11746   11746   11746   \n",
       "                   Slight                    85863   85863   85863   85863   \n",
       "One way street     Fatal                        95      95      95      95   \n",
       "                   Serious                    1655    1655    1655    1655   \n",
       "                   Slight                    11809   11809   11809   11809   \n",
       "Roundabout         Fatal                       142     142     142     142   \n",
       "                   Serious                    3665    3665    3665    3665   \n",
       "                   Slight                    40185   40185   40185   40185   \n",
       "Single carriageway Fatal                      6527    6527    6527    6527   \n",
       "                   Serious                   70059   70059   70059   70059   \n",
       "                   Slight                   415557  415557  415557  415557   \n",
       "Slip road          Fatal                        49      49      49      49   \n",
       "                   Serious                     611     611     611     611   \n",
       "                   Slight                     6381    6381    6381    6381   \n",
       "unaccounted        Fatal                        33      33      33      33   \n",
       "                   Serious                     481     481     481     481   \n",
       "                   Slight                     4006    4006    4006    4006   \n",
       "\n",
       "                                      DayOfWeek  \n",
       "Road_Type          Accident_Severity             \n",
       "Dual carriageway   Fatal                   1815  \n",
       "                   Serious                11746  \n",
       "                   Slight                 85863  \n",
       "One way street     Fatal                     95  \n",
       "                   Serious                 1655  \n",
       "                   Slight                 11809  \n",
       "Roundabout         Fatal                    142  \n",
       "                   Serious                 3665  \n",
       "                   Slight                 40185  \n",
       "Single carriageway Fatal                   6527  \n",
       "                   Serious                70059  \n",
       "                   Slight                415557  \n",
       "Slip road          Fatal                     49  \n",
       "                   Serious                  611  \n",
       "                   Slight                  6381  \n",
       "unaccounted        Fatal                     33  \n",
       "                   Serious                  481  \n",
       "                   Slight                  4006  "
      ]
     },
     "execution_count": 62,
     "metadata": {},
     "output_type": "execute_result"
    }
   ],
   "source": [
    "accident_road = accident.groupby(['Road_Type','Accident_Severity']).count()\n",
    "accident_road\n"
   ]
  },
  {
   "cell_type": "markdown",
   "id": "8b040a18-1246-4a12-8951-1ec6dec5bff1",
   "metadata": {},
   "source": [
    "<h1> Insight 8: The area with most accident is Urban Areas</h1>"
   ]
  },
  {
   "cell_type": "code",
   "execution_count": 28,
   "id": "2f89dd8c-1901-4c7d-8f40-a5f6f81bcafc",
   "metadata": {},
   "outputs": [
    {
     "data": {
      "text/plain": [
       "Urban_or_Rural_Area\n",
       "Urban          421678\n",
       "Rural          238990\n",
       "Unallocated        11\n",
       "Name: count, dtype: int64"
      ]
     },
     "execution_count": 28,
     "metadata": {},
     "output_type": "execute_result"
    }
   ],
   "source": [
    "urban_rural = accident['Urban_or_Rural_Area'].value_counts()\n",
    "urban_rural"
   ]
  },
  {
   "cell_type": "markdown",
   "id": "c8280e27-a9ed-41e5-acbf-179bf479419d",
   "metadata": {},
   "source": [
    "<h1> Insight 9: The district wiht most Accident is in Birmingham</h1>"
   ]
  },
  {
   "cell_type": "code",
   "execution_count": 54,
   "id": "581d6b77-21f1-47bb-b5a2-d0d69a22e303",
   "metadata": {},
   "outputs": [
    {
     "data": {
      "text/plain": [
       "District Area\n",
       "Birmingham            13491\n",
       "Leeds                  8898\n",
       "Manchester             6720\n",
       "Bradford               6212\n",
       "Sheffield              5710\n",
       "                      ...  \n",
       "Berwick-upon-Tweed      153\n",
       "Teesdale                142\n",
       "Shetland Islands        133\n",
       "Orkney Islands          117\n",
       "Clackmannanshire         91\n",
       "Name: count, Length: 422, dtype: int64"
      ]
     },
     "execution_count": 54,
     "metadata": {},
     "output_type": "execute_result"
    }
   ],
   "source": [
    "district_areas = accident['District Area'].value_counts().sort_values(ascending=False)\n",
    "district_areas"
   ]
  },
  {
   "cell_type": "markdown",
   "id": "b791a2f4-1beb-40bf-9228-d281c7776548",
   "metadata": {},
   "source": [
    "<h1> Insight 10: Daylight has the most conditions when it comes to accident</h1>"
   ]
  },
  {
   "cell_type": "code",
   "execution_count": 30,
   "id": "dfcf2096-d4d5-422d-a60d-c7ea3f850b6b",
   "metadata": {},
   "outputs": [
    {
     "data": {
      "text/plain": [
       "Light_Conditions\n",
       "Daylight                       484880\n",
       "Darkness - lights lit          129335\n",
       "Darkness - no lighting          37437\n",
       "Darkness - lighting unknown      6484\n",
       "Darkness - lights unlit          2543\n",
       "Name: count, dtype: int64"
      ]
     },
     "execution_count": 30,
     "metadata": {},
     "output_type": "execute_result"
    }
   ],
   "source": [
    "condition_counts = accident['Light_Conditions'].value_counts()\n",
    "condition_counts"
   ]
  },
  {
   "cell_type": "markdown",
   "id": "4294523b-cb96-4c8b-b1bf-0b605f123187",
   "metadata": {},
   "source": [
    "<h1> Insight 11: The number of vehicles in urban or rural areas has high impacts to the occurrence of accidents.</h1>"
   ]
  },
  {
   "cell_type": "code",
   "execution_count": 31,
   "id": "823d002d-9902-4a5a-bd50-93c11bb2e606",
   "metadata": {},
   "outputs": [
    {
     "name": "stdout",
     "output_type": "stream",
     "text": [
      "9.09607802972544e-198\n"
     ]
    }
   ],
   "source": [
    "f_stats, p_value = f_oneway(accident[accident['Urban_or_Rural_Area'] == 'Urban'] ['Number_of_Vehicles'],\n",
    "                            accident[accident['Urban_or_Rural_Area'] == 'Rural'] ['Number_of_Vehicles'])\n",
    "print(p_value)"
   ]
  },
  {
   "cell_type": "markdown",
   "id": "cd66d3d1-5555-42db-8796-5755a6ca7636",
   "metadata": {},
   "source": [
    "<h1> Insight 12: The road surface conditions affects on how many vehicles are invovled in a accident</h1>"
   ]
  },
  {
   "cell_type": "code",
   "execution_count": 32,
   "id": "22f7fef6-2b18-473c-b380-d1f0139b22d2",
   "metadata": {},
   "outputs": [
    {
     "name": "stdout",
     "output_type": "stream",
     "text": [
      "1.2783031353966655e-30\n"
     ]
    }
   ],
   "source": [
    "f_stats, p_value = f_oneway(accident[accident['Road_Surface_Conditions'] == 'Dry'] ['Number_of_Vehicles'],\n",
    "                            accident[accident['Road_Surface_Conditions'] == 'Wet or damp'] ['Number_of_Vehicles'],\n",
    "                            accident[accident['Road_Surface_Conditions'] == 'Snow'] ['Number_of_Vehicles'])\n",
    "print(p_value)"
   ]
  },
  {
   "cell_type": "markdown",
   "id": "95b44d03-44e0-43c7-a3de-3f6920e562ee",
   "metadata": {},
   "source": [
    "<h1> Insight 13: The condition of the surface influences the number of casualties in an accident.</h1>"
   ]
  },
  {
   "cell_type": "code",
   "execution_count": 33,
   "id": "dd973ae4-f2f3-48d6-a93f-8077a669432d",
   "metadata": {},
   "outputs": [
    {
     "name": "stdout",
     "output_type": "stream",
     "text": [
      "3.1520213411478814e-246\n"
     ]
    }
   ],
   "source": [
    "f_stats, p_value = f_oneway(accident[accident['Road_Surface_Conditions'] == 'Dry'] ['Number_of_Casualties'],\n",
    "                            accident[accident['Road_Surface_Conditions'] == 'Wet or damp'] ['Number_of_Casualties'],\n",
    "                            accident[accident['Road_Surface_Conditions'] == 'Snow'] ['Number_of_Casualties'])\n",
    "print(p_value)"
   ]
  },
  {
   "cell_type": "markdown",
   "id": "f43db716-048b-46db-902a-95dc5973ebda",
   "metadata": {},
   "source": [
    "<h1> Insight 14: Bolsover has the highest rate of accidents among the listed areas.</h1>"
   ]
  },
  {
   "cell_type": "code",
   "execution_count": 60,
   "id": "2c881ff3-bc8b-41bf-a4cc-6b3f2ae26154",
   "metadata": {},
   "outputs": [
    {
     "data": {
      "text/plain": [
       "District Area\n",
       "Bolsover            2.040501\n",
       "Runnymede           2.038076\n",
       "St. Albans          2.032631\n",
       "Dartford            2.031195\n",
       "South Bucks         2.022239\n",
       "                      ...   \n",
       "Aberdeenshire       1.553368\n",
       "Clackmannshire      1.487500\n",
       "Western Isles       1.455056\n",
       "Orkney Islands      1.393162\n",
       "Shetland Islands    1.353383\n",
       "Name: Number_of_Vehicles, Length: 422, dtype: float64"
      ]
     },
     "execution_count": 60,
     "metadata": {},
     "output_type": "execute_result"
    }
   ],
   "source": [
    "accident.groupby('District Area')['Number_of_Vehicles'].mean().sort_values(ascending=False)"
   ]
  },
  {
   "cell_type": "markdown",
   "id": "ed4b0492-275b-4139-8bb1-43506f7e55ed",
   "metadata": {},
   "source": [
    "<h1> Insight 15: Alongside it, Blaeu Gwent also has the highest rate of casualties, with a mean of 1.693694</h1>"
   ]
  },
  {
   "cell_type": "code",
   "execution_count": 47,
   "id": "89fcc511-ad2c-419a-9f4d-909485777d05",
   "metadata": {},
   "outputs": [
    {
     "data": {
      "text/plain": [
       "District Area\n",
       "Blaeu Gwent               1.693694\n",
       "West Somerset             1.613990\n",
       "Derwentside               1.606186\n",
       "Chester-le-Street         1.603306\n",
       "Durham                    1.580431\n",
       "                            ...   \n",
       "Kensington and Chelsea    1.136120\n",
       "Westminster               1.134069\n",
       "Camden                    1.132783\n",
       "Islington                 1.126082\n",
       "City of London            1.126044\n",
       "Name: Number_of_Casualties, Length: 422, dtype: float64"
      ]
     },
     "execution_count": 47,
     "metadata": {},
     "output_type": "execute_result"
    }
   ],
   "source": [
    "accident.groupby('District Area')['Number_of_Casualties'].mean().sort_values(ascending=False)"
   ]
  },
  {
   "cell_type": "markdown",
   "id": "c5919023-a6b1-4110-94c6-d7f19411843d",
   "metadata": {},
   "source": [
    "<h1> Insight 16:Accidents occur most frequently during fog or mist, and these conditions also result in the highest number of casualties, with a mean of 1.452948 per accident.</h1>"
   ]
  },
  {
   "cell_type": "code",
   "execution_count": 48,
   "id": "ab7f0c8c-4d37-4b0f-a4c7-ed5d74ff3ac8",
   "metadata": {},
   "outputs": [
    {
     "data": {
      "text/plain": [
       "Weather_Conditions\n",
       "Fog or mist                       1.452948\n",
       "Snowing + high winds              1.418079\n",
       "Raining + high winds              1.416641\n",
       "Raining no high winds             1.408214\n",
       "Fine + high winds                 1.386018\n",
       "Other                             1.354869\n",
       "Fine no high winds                1.350480\n",
       "Snowing no high winds             1.341776\n",
       "unaccounted weather conditions    1.233720\n",
       "Name: Number_of_Casualties, dtype: float64"
      ]
     },
     "execution_count": 48,
     "metadata": {},
     "output_type": "execute_result"
    }
   ],
   "source": [
    "accident.groupby('Weather_Conditions')['Number_of_Casualties'].mean().sort_values(ascending=False)"
   ]
  },
  {
   "cell_type": "markdown",
   "id": "ab27debd-f760-48a5-b3d2-ac8e646a1143",
   "metadata": {},
   "source": [
    "<h1> Insight 17: The highest number of casualties occurs when the road surface is flooded to a depth of over 3 cm.</h1>"
   ]
  },
  {
   "cell_type": "code",
   "execution_count": 52,
   "id": "3e73774e-57f8-4c05-b914-3d01af87351e",
   "metadata": {},
   "outputs": [
    {
     "data": {
      "text/plain": [
       "Road_Surface_Conditions\n",
       "Flood over 3cm. deep          1.5\n",
       "Wet or damp                   1.4\n",
       "Snow                          1.4\n",
       "Frost or ice                  1.3\n",
       "Dry                           1.3\n",
       "unknown surface conditions    1.2\n",
       "Name: Number_of_Casualties, dtype: float64"
      ]
     },
     "execution_count": 52,
     "metadata": {},
     "output_type": "execute_result"
    }
   ],
   "source": [
    "road = accident.groupby('Road_Surface_Conditions')['Number_of_Casualties'].mean().sort_values(ascending=False)\n",
    "np.round(road, 1)"
   ]
  },
  {
   "cell_type": "markdown",
   "id": "48a30075-3f85-49f1-8bec-442f280d937f",
   "metadata": {},
   "source": [
    "<h1> Insight 18: The analysis shows that accidents involving frost or ice with a fatal severity result in the highest average number of casualties, with a mean of 2.316062 per accident</h1>"
   ]
  },
  {
   "cell_type": "code",
   "execution_count": 51,
   "id": "a9e99aec-bab8-4b55-a1a2-b19fefba1111",
   "metadata": {},
   "outputs": [
    {
     "data": {
      "text/plain": [
       "Road_Surface_Conditions     Accident_Severity\n",
       "Frost or ice                Fatal                2.316062\n",
       "Flood over 3cm. deep        Fatal                2.260870\n",
       "Wet or damp                 Fatal                2.038168\n",
       "Snow                        Fatal                2.028571\n",
       "Dry                         Fatal                1.826365\n",
       "Flood over 3cm. deep        Serious              1.723684\n",
       "Snow                        Serious              1.587611\n",
       "Wet or damp                 Serious              1.569308\n",
       "Frost or ice                Serious              1.562033\n",
       "Flood over 3cm. deep        Slight               1.433492\n",
       "Dry                         Serious              1.423278\n",
       "Wet or damp                 Slight               1.377335\n",
       "Snow                        Slight               1.330813\n",
       "Dry                         Slight               1.312909\n",
       "Frost or ice                Slight               1.311148\n",
       "unknown surface conditions  Serious              1.300000\n",
       "                            Slight               1.207951\n",
       "                            Fatal                1.000000\n",
       "Name: Number_of_Casualties, dtype: float64"
      ]
     },
     "execution_count": 51,
     "metadata": {},
     "output_type": "execute_result"
    }
   ],
   "source": [
    "road = accident.groupby(['Road_Surface_Conditions', 'Accident_Severity'])['Number_of_Casualties'].mean().sort_values(ascending=False)\n",
    "road"
   ]
  },
  {
   "cell_type": "markdown",
   "id": "e1306d24-f15e-4ef9-b360-51a696a48dd8",
   "metadata": {},
   "source": [
    "<h1> Insight 19:The analysis shows that accidents on dual carriageways in rural areas with flood over 3cm deep result in the highest average number of casualties, with a mean of 1.604255 per accident.</h1>"
   ]
  },
  {
   "cell_type": "code",
   "execution_count": 49,
   "id": "2590a749-ada4-44de-a559-3b4aa3c30557",
   "metadata": {},
   "outputs": [
    {
     "data": {
      "text/plain": [
       "Road_Surface_Conditions     Road_Type         Urban_or_Rural_Area\n",
       "Flood over 3cm. deep        Dual carriageway  Rural                  1.604255\n",
       "unknown surface conditions  Slip road         Rural                  1.600000\n",
       "Snow                        unaccounted       Urban                  1.571429\n",
       "Wet or damp                 Dual carriageway  Rural                  1.567012\n",
       "Dry                         Dual carriageway  Rural                  1.563955\n",
       "                                                                       ...   \n",
       "Flood over 3cm. deep        Dual carriageway  Unallocated            1.000000\n",
       "                            unaccounted       Urban                  1.000000\n",
       "unknown surface conditions  Slip road         Urban                  1.000000\n",
       "                            unaccounted       Rural                  1.000000\n",
       "                                              Urban                  1.000000\n",
       "Name: Number_of_Casualties, Length: 75, dtype: float64"
      ]
     },
     "execution_count": 49,
     "metadata": {},
     "output_type": "execute_result"
    }
   ],
   "source": [
    "road = accident.groupby(['Road_Surface_Conditions', 'Road_Type', 'Urban_or_Rural_Area'])['Number_of_Casualties'].mean().sort_values(ascending=False)\n",
    "road"
   ]
  },
  {
   "cell_type": "markdown",
   "id": "cc0c78a2-d34d-4dc5-8ee2-f84b716ad746",
   "metadata": {},
   "source": [
    "<h1> Insight 20:The analysis shows that accidents on dual carriageways in rural areas with flood over 3cm deep during darkness with unlit lights result in the highest average number of casualties, with a mean of 6.000000 per accident.</h1>"
   ]
  },
  {
   "cell_type": "code",
   "execution_count": 57,
   "id": "13193028-2a8b-4676-9b02-02dcfde7638e",
   "metadata": {},
   "outputs": [
    {
     "data": {
      "text/plain": [
       "Road_Surface_Conditions     Road_Type         Urban_or_Rural_Area  Light_Conditions           \n",
       "Flood over 3cm. deep        Dual carriageway  Rural                Darkness - lights unlit        6.000000\n",
       "Wet or damp                 One way street    Rural                Darkness - lights unlit        3.000000\n",
       "Snow                        unaccounted       Rural                Darkness - lights lit          2.333333\n",
       "Wet or damp                 Slip road         Urban                Darkness - no lighting         2.187500\n",
       "Frost or ice                Dual carriageway  Urban                Darkness - lighting unknown    2.111111\n",
       "                                                                                                    ...   \n",
       "Snow                        One way street    Urban                Darkness - lighting unknown    1.000000\n",
       "                                              Rural                Darkness - lights lit          1.000000\n",
       "                            Dual carriageway  Urban                Darkness - no lighting         1.000000\n",
       "Frost or ice                unaccounted       Urban                Darkness - lighting unknown    1.000000\n",
       "unknown surface conditions  unaccounted       Urban                Daylight                       1.000000\n",
       "Name: Number_of_Casualties, Length: 291, dtype: float64"
      ]
     },
     "execution_count": 57,
     "metadata": {},
     "output_type": "execute_result"
    }
   ],
   "source": [
    "road = accident.groupby(['Road_Surface_Conditions', 'Road_Type', 'Urban_or_Rural_Area', 'Light_Conditions'])['Number_of_Casualties'].mean().sort_values(ascending=False)\n",
    "road"
   ]
  },
  {
   "cell_type": "code",
   "execution_count": null,
   "id": "38f8fe18-8172-4d17-a358-268781adf4af",
   "metadata": {},
   "outputs": [],
   "source": []
  }
 ],
 "metadata": {
  "kernelspec": {
   "display_name": "Python 3 (ipykernel)",
   "language": "python",
   "name": "python3"
  },
  "language_info": {
   "codemirror_mode": {
    "name": "ipython",
    "version": 3
   },
   "file_extension": ".py",
   "mimetype": "text/x-python",
   "name": "python",
   "nbconvert_exporter": "python",
   "pygments_lexer": "ipython3",
   "version": "3.11.3"
  }
 },
 "nbformat": 4,
 "nbformat_minor": 5
}
